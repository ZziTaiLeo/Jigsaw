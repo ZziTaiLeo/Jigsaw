{
 "cells": [
  {
   "cell_type": "code",
   "execution_count": 11,
   "metadata": {},
   "outputs": [
    {
     "ename": "TypeError",
     "evalue": "endswith() takes at least 1 argument (0 given)",
     "output_type": "error",
     "traceback": [
      "\u001b[0;31m---------------------------------------------------------------------------\u001b[0m",
      "\u001b[0;31mTypeError\u001b[0m                                 Traceback (most recent call last)",
      "Cell \u001b[0;32mIn [11], line 5\u001b[0m\n\u001b[1;32m      3\u001b[0m wide \u001b[39m=\u001b[39m \u001b[39m999\u001b[39m\n\u001b[1;32m      4\u001b[0m file \u001b[39m=\u001b[39m \u001b[39m'\u001b[39m\u001b[39mabcs/image.jpg\u001b[39m\u001b[39m'\u001b[39m\n\u001b[0;32m----> 5\u001b[0m \u001b[39mprint\u001b[39m(file\u001b[39m.\u001b[39;49mendswith())\n\u001b[1;32m      6\u001b[0m \u001b[39massert\u001b[39;00m (height \u001b[39m/\u001b[39m wide) \u001b[39m>\u001b[39m \u001b[39m0\u001b[39m\n\u001b[1;32m      7\u001b[0m ratios \u001b[39m=\u001b[39m \u001b[39mround\u001b[39m(height\u001b[39m/\u001b[39mwide)\n",
      "\u001b[0;31mTypeError\u001b[0m: endswith() takes at least 1 argument (0 given)"
     ]
    }
   ],
   "source": [
    "import math\n",
    "height = 12222\n",
    "wide = 999\n",
    "file = 'abcs/image.jpg'\n",
    "print(file.endswith())\n",
    "assert (height / wide) > 0\n",
    "ratios = round(height/wide)\n",
    "print(ratios)\n",
    "import sys\n",
    "assert ~('linux' in sys.platform)\n",
    "n = math.ceil(math.sqrt(ratios))"
   ]
  }
 ],
 "metadata": {
  "kernelspec": {
   "display_name": "wyq_eg3d",
   "language": "python",
   "name": "python3"
  },
  "language_info": {
   "codemirror_mode": {
    "name": "ipython",
    "version": 3
   },
   "file_extension": ".py",
   "mimetype": "text/x-python",
   "name": "python",
   "nbconvert_exporter": "python",
   "pygments_lexer": "ipython3",
   "version": "3.9.13"
  },
  "orig_nbformat": 4,
  "vscode": {
   "interpreter": {
    "hash": "bd8aa1e353085ab8c9d6acf1eecd95a62bbd8c85e2ba57ed7c25982a5575dde6"
   }
  }
 },
 "nbformat": 4,
 "nbformat_minor": 2
}
